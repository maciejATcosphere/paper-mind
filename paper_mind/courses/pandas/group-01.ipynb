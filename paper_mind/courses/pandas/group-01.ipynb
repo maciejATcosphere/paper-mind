{
 "metadata": {
  "name": ""
 },
 "nbformat": 3,
 "nbformat_minor": 0,
 "worksheets": [
  {
   "cells": [
    {
     "cell_type": "code",
     "collapsed": false,
     "input": [
      "from pandas import DataFrame, Series\n",
      "import numpy as np"
     ],
     "language": "python",
     "metadata": {},
     "outputs": [],
     "prompt_number": 42
    },
    {
     "cell_type": "code",
     "collapsed": false,
     "input": [
      "df = DataFrame({'key1': ['a', 'a', 'b', 'b', 'a'],\n",
      "                'key2': ['one', 'two', 'one', 'two', 'one'],\n",
      "                'data1': np.random.randn(5),\n",
      "                'data2': np.random.randn(5)})\n",
      "df"
     ],
     "language": "python",
     "metadata": {},
     "outputs": [
      {
       "html": [
        "<div style=\"max-height:1000px;max-width:1500px;overflow:auto;\">\n",
        "<table border=\"1\" class=\"dataframe\">\n",
        "  <thead>\n",
        "    <tr style=\"text-align: right;\">\n",
        "      <th></th>\n",
        "      <th>data1</th>\n",
        "      <th>data2</th>\n",
        "      <th>key1</th>\n",
        "      <th>key2</th>\n",
        "    </tr>\n",
        "  </thead>\n",
        "  <tbody>\n",
        "    <tr>\n",
        "      <th>0</th>\n",
        "      <td>-0.580762</td>\n",
        "      <td>-1.142099</td>\n",
        "      <td> a</td>\n",
        "      <td> one</td>\n",
        "    </tr>\n",
        "    <tr>\n",
        "      <th>1</th>\n",
        "      <td>-0.226044</td>\n",
        "      <td>-1.511602</td>\n",
        "      <td> a</td>\n",
        "      <td> two</td>\n",
        "    </tr>\n",
        "    <tr>\n",
        "      <th>2</th>\n",
        "      <td> 0.102497</td>\n",
        "      <td> 0.338241</td>\n",
        "      <td> b</td>\n",
        "      <td> one</td>\n",
        "    </tr>\n",
        "    <tr>\n",
        "      <th>3</th>\n",
        "      <td> 0.320037</td>\n",
        "      <td> 1.416296</td>\n",
        "      <td> b</td>\n",
        "      <td> two</td>\n",
        "    </tr>\n",
        "    <tr>\n",
        "      <th>4</th>\n",
        "      <td>-2.191149</td>\n",
        "      <td>-1.364862</td>\n",
        "      <td> a</td>\n",
        "      <td> one</td>\n",
        "    </tr>\n",
        "  </tbody>\n",
        "</table>\n",
        "</div>"
       ],
       "metadata": {},
       "output_type": "pyout",
       "prompt_number": 4,
       "text": [
        "      data1     data2 key1 key2\n",
        "0 -0.580762 -1.142099    a  one\n",
        "1 -0.226044 -1.511602    a  two\n",
        "2  0.102497  0.338241    b  one\n",
        "3  0.320037  1.416296    b  two\n",
        "4 -2.191149 -1.364862    a  one"
       ]
      }
     ],
     "prompt_number": 4
    },
    {
     "cell_type": "code",
     "collapsed": false,
     "input": [
      "# creating GroupBy object\n",
      "grouped = df['data1'].groupby(df['key1'])\n",
      "grouped"
     ],
     "language": "python",
     "metadata": {},
     "outputs": [
      {
       "metadata": {},
       "output_type": "pyout",
       "prompt_number": 6,
       "text": [
        "<pandas.core.groupby.SeriesGroupBy object at 0x4b34cd0>"
       ]
      }
     ],
     "prompt_number": 6
    },
    {
     "cell_type": "code",
     "collapsed": false,
     "input": [
      "grouped.mean()"
     ],
     "language": "python",
     "metadata": {},
     "outputs": [
      {
       "metadata": {},
       "output_type": "pyout",
       "prompt_number": 8,
       "text": [
        "key1\n",
        "a      -0.999318\n",
        "b       0.211267\n",
        "dtype: float64"
       ]
      }
     ],
     "prompt_number": 8
    },
    {
     "cell_type": "code",
     "collapsed": false,
     "input": [
      "# passing multiple keys\n",
      "means = df['data1'].groupby([df['key1'], df['key2']]).mean()\n",
      "# ending up with hierachical index\n",
      "means"
     ],
     "language": "python",
     "metadata": {},
     "outputs": [
      {
       "metadata": {},
       "output_type": "pyout",
       "prompt_number": 10,
       "text": [
        "key1  key2\n",
        "a     one    -1.385955\n",
        "      two    -0.226044\n",
        "b     one     0.102497\n",
        "      two     0.320037\n",
        "dtype: float64"
       ]
      }
     ],
     "prompt_number": 10
    },
    {
     "cell_type": "code",
     "collapsed": false,
     "input": [
      "means.unstack()"
     ],
     "language": "python",
     "metadata": {},
     "outputs": [
      {
       "html": [
        "<div style=\"max-height:1000px;max-width:1500px;overflow:auto;\">\n",
        "<table border=\"1\" class=\"dataframe\">\n",
        "  <thead>\n",
        "    <tr style=\"text-align: right;\">\n",
        "      <th>key2</th>\n",
        "      <th>one</th>\n",
        "      <th>two</th>\n",
        "    </tr>\n",
        "    <tr>\n",
        "      <th>key1</th>\n",
        "      <th></th>\n",
        "      <th></th>\n",
        "    </tr>\n",
        "  </thead>\n",
        "  <tbody>\n",
        "    <tr>\n",
        "      <th>a</th>\n",
        "      <td>-1.385955</td>\n",
        "      <td>-0.226044</td>\n",
        "    </tr>\n",
        "    <tr>\n",
        "      <th>b</th>\n",
        "      <td> 0.102497</td>\n",
        "      <td> 0.320037</td>\n",
        "    </tr>\n",
        "  </tbody>\n",
        "</table>\n",
        "</div>"
       ],
       "metadata": {},
       "output_type": "pyout",
       "prompt_number": 12,
       "text": [
        "key2       one       two\n",
        "key1                    \n",
        "a    -1.385955 -0.226044\n",
        "b     0.102497  0.320037"
       ]
      }
     ],
     "prompt_number": 12
    },
    {
     "cell_type": "code",
     "collapsed": false,
     "input": [
      "# one can use external arrays to be used as group keys\n",
      "states = np.array(['Ohio', 'California', 'California', 'Ohio', 'Ohio'])\n",
      "years = np.array([2005, 2005, 2006, 2005, 2006])\n",
      "df['data1'].groupby([states, years]).mean()"
     ],
     "language": "python",
     "metadata": {},
     "outputs": [
      {
       "metadata": {},
       "output_type": "pyout",
       "prompt_number": 14,
       "text": [
        "California  2005   -0.226044\n",
        "            2006    0.102497\n",
        "Ohio        2005   -0.130363\n",
        "            2006   -2.191149\n",
        "dtype: float64"
       ]
      }
     ],
     "prompt_number": 14
    },
    {
     "cell_type": "code",
     "collapsed": false,
     "input": [
      "# if the grouping information can be found in the same DataFrame\n",
      "# one can use shortcut notation\n",
      "df.groupby('key1').mean()\n",
      "# key2 is omitted since it's not numeric data. It's called nuisance column, which\n",
      "# is therefore excluded from the result. By default all numeric columns are \n",
      "# aggregated."
     ],
     "language": "python",
     "metadata": {},
     "outputs": [
      {
       "html": [
        "<div style=\"max-height:1000px;max-width:1500px;overflow:auto;\">\n",
        "<table border=\"1\" class=\"dataframe\">\n",
        "  <thead>\n",
        "    <tr style=\"text-align: right;\">\n",
        "      <th></th>\n",
        "      <th>data1</th>\n",
        "      <th>data2</th>\n",
        "    </tr>\n",
        "    <tr>\n",
        "      <th>key1</th>\n",
        "      <th></th>\n",
        "      <th></th>\n",
        "    </tr>\n",
        "  </thead>\n",
        "  <tbody>\n",
        "    <tr>\n",
        "      <th>a</th>\n",
        "      <td>-0.999318</td>\n",
        "      <td>-1.339521</td>\n",
        "    </tr>\n",
        "    <tr>\n",
        "      <th>b</th>\n",
        "      <td> 0.211267</td>\n",
        "      <td> 0.877268</td>\n",
        "    </tr>\n",
        "  </tbody>\n",
        "</table>\n",
        "</div>"
       ],
       "metadata": {},
       "output_type": "pyout",
       "prompt_number": 16,
       "text": [
        "         data1     data2\n",
        "key1                    \n",
        "a    -0.999318 -1.339521\n",
        "b     0.211267  0.877268"
       ]
      }
     ],
     "prompt_number": 16
    },
    {
     "cell_type": "code",
     "collapsed": false,
     "input": [
      "# one can pass multiple keys\n",
      "df.groupby(['key1', 'key2']).mean()"
     ],
     "language": "python",
     "metadata": {},
     "outputs": [
      {
       "html": [
        "<div style=\"max-height:1000px;max-width:1500px;overflow:auto;\">\n",
        "<table border=\"1\" class=\"dataframe\">\n",
        "  <thead>\n",
        "    <tr style=\"text-align: right;\">\n",
        "      <th></th>\n",
        "      <th></th>\n",
        "      <th>data1</th>\n",
        "      <th>data2</th>\n",
        "    </tr>\n",
        "    <tr>\n",
        "      <th>key1</th>\n",
        "      <th>key2</th>\n",
        "      <th></th>\n",
        "      <th></th>\n",
        "    </tr>\n",
        "  </thead>\n",
        "  <tbody>\n",
        "    <tr>\n",
        "      <th rowspan=\"2\" valign=\"top\">a</th>\n",
        "      <th>one</th>\n",
        "      <td>-1.385955</td>\n",
        "      <td>-1.253480</td>\n",
        "    </tr>\n",
        "    <tr>\n",
        "      <th>two</th>\n",
        "      <td>-0.226044</td>\n",
        "      <td>-1.511602</td>\n",
        "    </tr>\n",
        "    <tr>\n",
        "      <th rowspan=\"2\" valign=\"top\">b</th>\n",
        "      <th>one</th>\n",
        "      <td> 0.102497</td>\n",
        "      <td> 0.338241</td>\n",
        "    </tr>\n",
        "    <tr>\n",
        "      <th>two</th>\n",
        "      <td> 0.320037</td>\n",
        "      <td> 1.416296</td>\n",
        "    </tr>\n",
        "  </tbody>\n",
        "</table>\n",
        "</div>"
       ],
       "metadata": {},
       "output_type": "pyout",
       "prompt_number": 18,
       "text": [
        "              data1     data2\n",
        "key1 key2                    \n",
        "a    one  -1.385955 -1.253480\n",
        "     two  -0.226044 -1.511602\n",
        "b    one   0.102497  0.338241\n",
        "     two   0.320037  1.416296"
       ]
      }
     ],
     "prompt_number": 18
    },
    {
     "cell_type": "code",
     "collapsed": false,
     "input": [
      "# iterating over groups -> the GroupBy object\n",
      "for name, group in df.groupby('key1'):\n",
      "    print name\n",
      "    print group"
     ],
     "language": "python",
     "metadata": {},
     "outputs": [
      {
       "output_type": "stream",
       "stream": "stdout",
       "text": [
        "a\n",
        "      data1     data2 key1 key2\n",
        "0 -0.580762 -1.142099    a  one\n",
        "1 -0.226044 -1.511602    a  two\n",
        "4 -2.191149 -1.364862    a  one\n",
        "b\n",
        "      data1     data2 key1 key2\n",
        "2  0.102497  0.338241    b  one\n",
        "3  0.320037  1.416296    b  two\n"
       ]
      }
     ],
     "prompt_number": 22
    },
    {
     "cell_type": "code",
     "collapsed": false,
     "input": [
      "# in case of multiple keys, the first element in the tuple will be tuple\n",
      "# of key values\n",
      "for (k1, k2), group in df.groupby(['key1', 'key2']):\n",
      "    print k1, k2\n",
      "    print group"
     ],
     "language": "python",
     "metadata": {},
     "outputs": [
      {
       "output_type": "stream",
       "stream": "stdout",
       "text": [
        "a one\n",
        "      data1     data2 key1 key2\n",
        "0 -0.580762 -1.142099    a  one\n",
        "4 -2.191149 -1.364862    a  one\n",
        "a two\n",
        "      data1     data2 key1 key2\n",
        "1 -0.226044 -1.511602    a  two\n",
        "b one\n",
        "      data1     data2 key1 key2\n",
        "2  0.102497  0.338241    b  one\n",
        "b two\n",
        "      data1     data2 key1 key2\n",
        "3  0.320037  1.416296    b  two\n"
       ]
      }
     ],
     "prompt_number": 24
    },
    {
     "cell_type": "code",
     "collapsed": false,
     "input": [
      "# one can transform DataFrame into dict\n",
      "pieces = dict(list(df.groupby('key1')))\n",
      "pieces['a']"
     ],
     "language": "python",
     "metadata": {},
     "outputs": [
      {
       "html": [
        "<div style=\"max-height:1000px;max-width:1500px;overflow:auto;\">\n",
        "<table border=\"1\" class=\"dataframe\">\n",
        "  <thead>\n",
        "    <tr style=\"text-align: right;\">\n",
        "      <th></th>\n",
        "      <th>data1</th>\n",
        "      <th>data2</th>\n",
        "      <th>key1</th>\n",
        "      <th>key2</th>\n",
        "    </tr>\n",
        "  </thead>\n",
        "  <tbody>\n",
        "    <tr>\n",
        "      <th>0</th>\n",
        "      <td>-0.580762</td>\n",
        "      <td>-1.142099</td>\n",
        "      <td> a</td>\n",
        "      <td> one</td>\n",
        "    </tr>\n",
        "    <tr>\n",
        "      <th>1</th>\n",
        "      <td>-0.226044</td>\n",
        "      <td>-1.511602</td>\n",
        "      <td> a</td>\n",
        "      <td> two</td>\n",
        "    </tr>\n",
        "    <tr>\n",
        "      <th>4</th>\n",
        "      <td>-2.191149</td>\n",
        "      <td>-1.364862</td>\n",
        "      <td> a</td>\n",
        "      <td> one</td>\n",
        "    </tr>\n",
        "  </tbody>\n",
        "</table>\n",
        "</div>"
       ],
       "metadata": {},
       "output_type": "pyout",
       "prompt_number": 27,
       "text": [
        "      data1     data2 key1 key2\n",
        "0 -0.580762 -1.142099    a  one\n",
        "1 -0.226044 -1.511602    a  two\n",
        "4 -2.191149 -1.364862    a  one"
       ]
      }
     ],
     "prompt_number": 27
    },
    {
     "cell_type": "code",
     "collapsed": false,
     "input": [
      "# one can group also on axis=1 (columns)\n",
      "grouped = df.groupby(df.dtypes, axis=1)\n",
      "dict(list(grouped))"
     ],
     "language": "python",
     "metadata": {},
     "outputs": [
      {
       "metadata": {},
       "output_type": "pyout",
       "prompt_number": 29,
       "text": [
        "{dtype('float64'):       data1     data2\n",
        "0 -0.580762 -1.142099\n",
        "1 -0.226044 -1.511602\n",
        "2  0.102497  0.338241\n",
        "3  0.320037  1.416296\n",
        "4 -2.191149 -1.364862,\n",
        " dtype('O'):   key1 key2\n",
        "0    a  one\n",
        "1    a  two\n",
        "2    b  one\n",
        "3    b  two\n",
        "4    a  one}"
       ]
      }
     ],
     "prompt_number": 29
    },
    {
     "cell_type": "code",
     "collapsed": false,
     "input": [
      "# selecting a column or subset of columns\n",
      "df.groupby('key1')['data1']  # == df['data1'].groupby('key1')\n",
      "df.groupby('key1')[['data2']]  # == df[['data2']].groupby('key1') => it return values as DataFrame instance"
     ],
     "language": "python",
     "metadata": {},
     "outputs": [
      {
       "metadata": {},
       "output_type": "pyout",
       "prompt_number": 34,
       "text": [
        "<pandas.core.groupby.DataFrameGroupBy object at 0x446c510>"
       ]
      }
     ],
     "prompt_number": 34
    },
    {
     "cell_type": "code",
     "collapsed": false,
     "input": [
      "# grouping with Dict and Series\n",
      "people = DataFrame(np.random.randn(5, 5), \n",
      "                   columns=['a', 'b', 'c', 'd', 'e'],\n",
      "                   index=['Joe', 'Steve', 'Wes', 'Jim', 'Travis'])\n",
      "people.ix[2:3, ['b', 'c']] = np.nan\n",
      "people"
     ],
     "language": "python",
     "metadata": {},
     "outputs": [
      {
       "html": [
        "<div style=\"max-height:1000px;max-width:1500px;overflow:auto;\">\n",
        "<table border=\"1\" class=\"dataframe\">\n",
        "  <thead>\n",
        "    <tr style=\"text-align: right;\">\n",
        "      <th></th>\n",
        "      <th>a</th>\n",
        "      <th>b</th>\n",
        "      <th>c</th>\n",
        "      <th>d</th>\n",
        "      <th>e</th>\n",
        "    </tr>\n",
        "  </thead>\n",
        "  <tbody>\n",
        "    <tr>\n",
        "      <th>Joe</th>\n",
        "      <td>-1.352918</td>\n",
        "      <td> 0.651745</td>\n",
        "      <td> 1.386498</td>\n",
        "      <td>-0.174885</td>\n",
        "      <td>-0.636942</td>\n",
        "    </tr>\n",
        "    <tr>\n",
        "      <th>Steve</th>\n",
        "      <td> 0.809765</td>\n",
        "      <td>-0.013424</td>\n",
        "      <td> 0.202161</td>\n",
        "      <td>-0.216853</td>\n",
        "      <td> 0.554207</td>\n",
        "    </tr>\n",
        "    <tr>\n",
        "      <th>Wes</th>\n",
        "      <td>-0.564747</td>\n",
        "      <td>      NaN</td>\n",
        "      <td>      NaN</td>\n",
        "      <td> 0.596272</td>\n",
        "      <td> 2.167304</td>\n",
        "    </tr>\n",
        "    <tr>\n",
        "      <th>Jim</th>\n",
        "      <td> 0.976848</td>\n",
        "      <td> 2.719208</td>\n",
        "      <td> 1.307545</td>\n",
        "      <td> 0.554437</td>\n",
        "      <td> 1.304663</td>\n",
        "    </tr>\n",
        "    <tr>\n",
        "      <th>Travis</th>\n",
        "      <td> 0.885942</td>\n",
        "      <td> 1.062878</td>\n",
        "      <td>-0.577053</td>\n",
        "      <td>-0.284940</td>\n",
        "      <td>-1.639933</td>\n",
        "    </tr>\n",
        "  </tbody>\n",
        "</table>\n",
        "</div>"
       ],
       "metadata": {},
       "output_type": "pyout",
       "prompt_number": 39,
       "text": [
        "               a         b         c         d         e\n",
        "Joe    -1.352918  0.651745  1.386498 -0.174885 -0.636942\n",
        "Steve   0.809765 -0.013424  0.202161 -0.216853  0.554207\n",
        "Wes    -0.564747       NaN       NaN  0.596272  2.167304\n",
        "Jim     0.976848  2.719208  1.307545  0.554437  1.304663\n",
        "Travis  0.885942  1.062878 -0.577053 -0.284940 -1.639933"
       ]
      }
     ],
     "prompt_number": 39
    },
    {
     "cell_type": "code",
     "collapsed": false,
     "input": [
      "mapping = {'a': 'red', 'b': 'red', 'c': 'blue', 'd': 'blue', 'e': 'red', 'f': 'orange'}\n",
      "by_column = people.groupby(mapping, axis=1)\n",
      "by_column.mean()\n",
      "# the same works with Series\n",
      "map_series = Series(mapping)\n",
      "people.groupby(map_series, axis=1).count()"
     ],
     "language": "python",
     "metadata": {},
     "outputs": [
      {
       "html": [
        "<div style=\"max-height:1000px;max-width:1500px;overflow:auto;\">\n",
        "<table border=\"1\" class=\"dataframe\">\n",
        "  <thead>\n",
        "    <tr style=\"text-align: right;\">\n",
        "      <th></th>\n",
        "      <th>blue</th>\n",
        "      <th>red</th>\n",
        "    </tr>\n",
        "  </thead>\n",
        "  <tbody>\n",
        "    <tr>\n",
        "      <th>Joe</th>\n",
        "      <td> 2</td>\n",
        "      <td> 3</td>\n",
        "    </tr>\n",
        "    <tr>\n",
        "      <th>Steve</th>\n",
        "      <td> 2</td>\n",
        "      <td> 3</td>\n",
        "    </tr>\n",
        "    <tr>\n",
        "      <th>Wes</th>\n",
        "      <td> 1</td>\n",
        "      <td> 2</td>\n",
        "    </tr>\n",
        "    <tr>\n",
        "      <th>Jim</th>\n",
        "      <td> 2</td>\n",
        "      <td> 3</td>\n",
        "    </tr>\n",
        "    <tr>\n",
        "      <th>Travis</th>\n",
        "      <td> 2</td>\n",
        "      <td> 3</td>\n",
        "    </tr>\n",
        "  </tbody>\n",
        "</table>\n",
        "</div>"
       ],
       "metadata": {},
       "output_type": "pyout",
       "prompt_number": 44,
       "text": [
        "        blue  red\n",
        "Joe        2    3\n",
        "Steve      2    3\n",
        "Wes        1    2\n",
        "Jim        2    3\n",
        "Travis     2    3"
       ]
      }
     ],
     "prompt_number": 44
    },
    {
     "cell_type": "code",
     "collapsed": false,
     "input": [
      "# grouping with function! Any function passed as a group key \n",
      "# will be called once per index value, with the return values\n",
      "# being used as the group names\n",
      "people.groupby(len).sum()"
     ],
     "language": "python",
     "metadata": {},
     "outputs": [
      {
       "html": [
        "<div style=\"max-height:1000px;max-width:1500px;overflow:auto;\">\n",
        "<table border=\"1\" class=\"dataframe\">\n",
        "  <thead>\n",
        "    <tr style=\"text-align: right;\">\n",
        "      <th></th>\n",
        "      <th>a</th>\n",
        "      <th>b</th>\n",
        "      <th>c</th>\n",
        "      <th>d</th>\n",
        "      <th>e</th>\n",
        "    </tr>\n",
        "  </thead>\n",
        "  <tbody>\n",
        "    <tr>\n",
        "      <th>3</th>\n",
        "      <td>-0.940818</td>\n",
        "      <td> 3.370953</td>\n",
        "      <td> 2.694042</td>\n",
        "      <td> 0.975824</td>\n",
        "      <td> 2.835026</td>\n",
        "    </tr>\n",
        "    <tr>\n",
        "      <th>5</th>\n",
        "      <td> 0.809765</td>\n",
        "      <td>-0.013424</td>\n",
        "      <td> 0.202161</td>\n",
        "      <td>-0.216853</td>\n",
        "      <td> 0.554207</td>\n",
        "    </tr>\n",
        "    <tr>\n",
        "      <th>6</th>\n",
        "      <td> 0.885942</td>\n",
        "      <td> 1.062878</td>\n",
        "      <td>-0.577053</td>\n",
        "      <td>-0.284940</td>\n",
        "      <td>-1.639933</td>\n",
        "    </tr>\n",
        "  </tbody>\n",
        "</table>\n",
        "</div>"
       ],
       "metadata": {},
       "output_type": "pyout",
       "prompt_number": 46,
       "text": [
        "          a         b         c         d         e\n",
        "3 -0.940818  3.370953  2.694042  0.975824  2.835026\n",
        "5  0.809765 -0.013424  0.202161 -0.216853  0.554207\n",
        "6  0.885942  1.062878 -0.577053 -0.284940 -1.639933"
       ]
      }
     ],
     "prompt_number": 46
    },
    {
     "cell_type": "code",
     "collapsed": false,
     "input": [
      "# mixing everything (arrays, dicts, series) is not a problem\n",
      "# as everything gets converted to arrays internally\n",
      "key_list = ['one', 'one', 'one', 'two', 'two']\n",
      "people.groupby([len, key_list]).min()"
     ],
     "language": "python",
     "metadata": {},
     "outputs": [
      {
       "html": [
        "<div style=\"max-height:1000px;max-width:1500px;overflow:auto;\">\n",
        "<table border=\"1\" class=\"dataframe\">\n",
        "  <thead>\n",
        "    <tr style=\"text-align: right;\">\n",
        "      <th></th>\n",
        "      <th></th>\n",
        "      <th>a</th>\n",
        "      <th>b</th>\n",
        "      <th>c</th>\n",
        "      <th>d</th>\n",
        "      <th>e</th>\n",
        "    </tr>\n",
        "  </thead>\n",
        "  <tbody>\n",
        "    <tr>\n",
        "      <th rowspan=\"2\" valign=\"top\">3</th>\n",
        "      <th>one</th>\n",
        "      <td>-1.352918</td>\n",
        "      <td> 0.651745</td>\n",
        "      <td> 1.386498</td>\n",
        "      <td>-0.174885</td>\n",
        "      <td>-0.636942</td>\n",
        "    </tr>\n",
        "    <tr>\n",
        "      <th>two</th>\n",
        "      <td> 0.976848</td>\n",
        "      <td> 2.719208</td>\n",
        "      <td> 1.307545</td>\n",
        "      <td> 0.554437</td>\n",
        "      <td> 1.304663</td>\n",
        "    </tr>\n",
        "    <tr>\n",
        "      <th>5</th>\n",
        "      <th>one</th>\n",
        "      <td> 0.809765</td>\n",
        "      <td>-0.013424</td>\n",
        "      <td> 0.202161</td>\n",
        "      <td>-0.216853</td>\n",
        "      <td> 0.554207</td>\n",
        "    </tr>\n",
        "    <tr>\n",
        "      <th>6</th>\n",
        "      <th>two</th>\n",
        "      <td> 0.885942</td>\n",
        "      <td> 1.062878</td>\n",
        "      <td>-0.577053</td>\n",
        "      <td>-0.284940</td>\n",
        "      <td>-1.639933</td>\n",
        "    </tr>\n",
        "  </tbody>\n",
        "</table>\n",
        "</div>"
       ],
       "metadata": {},
       "output_type": "pyout",
       "prompt_number": 47,
       "text": [
        "              a         b         c         d         e\n",
        "3 one -1.352918  0.651745  1.386498 -0.174885 -0.636942\n",
        "  two  0.976848  2.719208  1.307545  0.554437  1.304663\n",
        "5 one  0.809765 -0.013424  0.202161 -0.216853  0.554207\n",
        "6 two  0.885942  1.062878 -0.577053 -0.284940 -1.639933"
       ]
      }
     ],
     "prompt_number": 47
    }
   ],
   "metadata": {}
  }
 ]
}