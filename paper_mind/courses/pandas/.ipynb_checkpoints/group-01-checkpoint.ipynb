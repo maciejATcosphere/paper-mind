{
 "metadata": {
  "name": ""
 },
 "nbformat": 3,
 "nbformat_minor": 0,
 "worksheets": [
  {
   "cells": [
    {
     "cell_type": "code",
     "collapsed": false,
     "input": [
      "from pandas import DataFrame, Series\n",
      "import pandas as pd\n",
      "import numpy as np"
     ],
     "language": "python",
     "metadata": {},
     "outputs": [],
     "prompt_number": 2
    },
    {
     "cell_type": "code",
     "collapsed": false,
     "input": [
      "df = DataFrame({'key1': ['a', 'a', 'b', 'b', 'a'],\n",
      "                'key2': ['one', 'two', 'one', 'two', 'one'],\n",
      "                'data1': np.random.randn(5),\n",
      "                'data2': np.random.randn(5)})\n",
      "df"
     ],
     "language": "python",
     "metadata": {},
     "outputs": [
      {
       "html": [
        "<div style=\"max-height:1000px;max-width:1500px;overflow:auto;\">\n",
        "<table border=\"1\" class=\"dataframe\">\n",
        "  <thead>\n",
        "    <tr style=\"text-align: right;\">\n",
        "      <th></th>\n",
        "      <th>data1</th>\n",
        "      <th>data2</th>\n",
        "      <th>key1</th>\n",
        "      <th>key2</th>\n",
        "    </tr>\n",
        "  </thead>\n",
        "  <tbody>\n",
        "    <tr>\n",
        "      <th>0</th>\n",
        "      <td>-1.025924</td>\n",
        "      <td> 1.403950</td>\n",
        "      <td> a</td>\n",
        "      <td> one</td>\n",
        "    </tr>\n",
        "    <tr>\n",
        "      <th>1</th>\n",
        "      <td> 0.748515</td>\n",
        "      <td>-0.761455</td>\n",
        "      <td> a</td>\n",
        "      <td> two</td>\n",
        "    </tr>\n",
        "    <tr>\n",
        "      <th>2</th>\n",
        "      <td>-1.141719</td>\n",
        "      <td>-1.438620</td>\n",
        "      <td> b</td>\n",
        "      <td> one</td>\n",
        "    </tr>\n",
        "    <tr>\n",
        "      <th>3</th>\n",
        "      <td> 0.716140</td>\n",
        "      <td>-0.234490</td>\n",
        "      <td> b</td>\n",
        "      <td> two</td>\n",
        "    </tr>\n",
        "    <tr>\n",
        "      <th>4</th>\n",
        "      <td>-0.980337</td>\n",
        "      <td>-0.174077</td>\n",
        "      <td> a</td>\n",
        "      <td> one</td>\n",
        "    </tr>\n",
        "  </tbody>\n",
        "</table>\n",
        "</div>"
       ],
       "metadata": {},
       "output_type": "pyout",
       "prompt_number": 3,
       "text": [
        "      data1     data2 key1 key2\n",
        "0 -1.025924  1.403950    a  one\n",
        "1  0.748515 -0.761455    a  two\n",
        "2 -1.141719 -1.438620    b  one\n",
        "3  0.716140 -0.234490    b  two\n",
        "4 -0.980337 -0.174077    a  one"
       ]
      }
     ],
     "prompt_number": 3
    },
    {
     "cell_type": "code",
     "collapsed": false,
     "input": [
      "# creating GroupBy object\n",
      "grouped = df['data1'].groupby(df['key1'])\n",
      "grouped"
     ],
     "language": "python",
     "metadata": {},
     "outputs": [
      {
       "metadata": {},
       "output_type": "pyout",
       "prompt_number": 4,
       "text": [
        "<pandas.core.groupby.SeriesGroupBy object at 0x1f5ffd0>"
       ]
      }
     ],
     "prompt_number": 4
    },
    {
     "cell_type": "code",
     "collapsed": false,
     "input": [
      "grouped.mean()"
     ],
     "language": "python",
     "metadata": {},
     "outputs": [
      {
       "metadata": {},
       "output_type": "pyout",
       "prompt_number": 5,
       "text": [
        "key1\n",
        "a      -0.419249\n",
        "b      -0.212790\n",
        "dtype: float64"
       ]
      }
     ],
     "prompt_number": 5
    },
    {
     "cell_type": "code",
     "collapsed": false,
     "input": [
      "# passing multiple keys\n",
      "means = df['data1'].groupby([df['key1'], df['key2']]).mean()\n",
      "# ending up with hierachical index\n",
      "means"
     ],
     "language": "python",
     "metadata": {},
     "outputs": [
      {
       "metadata": {},
       "output_type": "pyout",
       "prompt_number": 6,
       "text": [
        "key1  key2\n",
        "a     one    -1.003130\n",
        "      two     0.748515\n",
        "b     one    -1.141719\n",
        "      two     0.716140\n",
        "dtype: float64"
       ]
      }
     ],
     "prompt_number": 6
    },
    {
     "cell_type": "code",
     "collapsed": false,
     "input": [
      "means.unstack()"
     ],
     "language": "python",
     "metadata": {},
     "outputs": [
      {
       "html": [
        "<div style=\"max-height:1000px;max-width:1500px;overflow:auto;\">\n",
        "<table border=\"1\" class=\"dataframe\">\n",
        "  <thead>\n",
        "    <tr style=\"text-align: right;\">\n",
        "      <th>key2</th>\n",
        "      <th>one</th>\n",
        "      <th>two</th>\n",
        "    </tr>\n",
        "    <tr>\n",
        "      <th>key1</th>\n",
        "      <th></th>\n",
        "      <th></th>\n",
        "    </tr>\n",
        "  </thead>\n",
        "  <tbody>\n",
        "    <tr>\n",
        "      <th>a</th>\n",
        "      <td>-1.003130</td>\n",
        "      <td> 0.748515</td>\n",
        "    </tr>\n",
        "    <tr>\n",
        "      <th>b</th>\n",
        "      <td>-1.141719</td>\n",
        "      <td> 0.716140</td>\n",
        "    </tr>\n",
        "  </tbody>\n",
        "</table>\n",
        "</div>"
       ],
       "metadata": {},
       "output_type": "pyout",
       "prompt_number": 7,
       "text": [
        "key2       one       two\n",
        "key1                    \n",
        "a    -1.003130  0.748515\n",
        "b    -1.141719  0.716140"
       ]
      }
     ],
     "prompt_number": 7
    },
    {
     "cell_type": "code",
     "collapsed": false,
     "input": [
      "# one can use external arrays to be used as group keys\n",
      "states = np.array(['Ohio', 'California', 'California', 'Ohio', 'Ohio'])\n",
      "years = np.array([2005, 2005, 2006, 2005, 2006])\n",
      "df['data1'].groupby([states, years]).mean()"
     ],
     "language": "python",
     "metadata": {},
     "outputs": [
      {
       "metadata": {},
       "output_type": "pyout",
       "prompt_number": 8,
       "text": [
        "California  2005    0.748515\n",
        "            2006   -1.141719\n",
        "Ohio        2005   -0.154892\n",
        "            2006   -0.980337\n",
        "dtype: float64"
       ]
      }
     ],
     "prompt_number": 8
    },
    {
     "cell_type": "code",
     "collapsed": false,
     "input": [
      "# if the grouping information can be found in the same DataFrame\n",
      "# one can use shortcut notation\n",
      "df.groupby('key1').mean()\n",
      "# key2 is omitted since it's not numeric data. It's called nuisance column, which\n",
      "# is therefore excluded from the result. By default all numeric columns are \n",
      "# aggregated."
     ],
     "language": "python",
     "metadata": {},
     "outputs": [
      {
       "html": [
        "<div style=\"max-height:1000px;max-width:1500px;overflow:auto;\">\n",
        "<table border=\"1\" class=\"dataframe\">\n",
        "  <thead>\n",
        "    <tr style=\"text-align: right;\">\n",
        "      <th></th>\n",
        "      <th>data1</th>\n",
        "      <th>data2</th>\n",
        "    </tr>\n",
        "    <tr>\n",
        "      <th>key1</th>\n",
        "      <th></th>\n",
        "      <th></th>\n",
        "    </tr>\n",
        "  </thead>\n",
        "  <tbody>\n",
        "    <tr>\n",
        "      <th>a</th>\n",
        "      <td>-0.419249</td>\n",
        "      <td> 0.156139</td>\n",
        "    </tr>\n",
        "    <tr>\n",
        "      <th>b</th>\n",
        "      <td>-0.212790</td>\n",
        "      <td>-0.836555</td>\n",
        "    </tr>\n",
        "  </tbody>\n",
        "</table>\n",
        "</div>"
       ],
       "metadata": {},
       "output_type": "pyout",
       "prompt_number": 9,
       "text": [
        "         data1     data2\n",
        "key1                    \n",
        "a    -0.419249  0.156139\n",
        "b    -0.212790 -0.836555"
       ]
      }
     ],
     "prompt_number": 9
    },
    {
     "cell_type": "code",
     "collapsed": false,
     "input": [
      "# one can pass multiple keys\n",
      "df.groupby(['key1', 'key2']).mean()"
     ],
     "language": "python",
     "metadata": {},
     "outputs": [
      {
       "html": [
        "<div style=\"max-height:1000px;max-width:1500px;overflow:auto;\">\n",
        "<table border=\"1\" class=\"dataframe\">\n",
        "  <thead>\n",
        "    <tr style=\"text-align: right;\">\n",
        "      <th></th>\n",
        "      <th></th>\n",
        "      <th>data1</th>\n",
        "      <th>data2</th>\n",
        "    </tr>\n",
        "    <tr>\n",
        "      <th>key1</th>\n",
        "      <th>key2</th>\n",
        "      <th></th>\n",
        "      <th></th>\n",
        "    </tr>\n",
        "  </thead>\n",
        "  <tbody>\n",
        "    <tr>\n",
        "      <th rowspan=\"2\" valign=\"top\">a</th>\n",
        "      <th>one</th>\n",
        "      <td>-1.003130</td>\n",
        "      <td> 0.614936</td>\n",
        "    </tr>\n",
        "    <tr>\n",
        "      <th>two</th>\n",
        "      <td> 0.748515</td>\n",
        "      <td>-0.761455</td>\n",
        "    </tr>\n",
        "    <tr>\n",
        "      <th rowspan=\"2\" valign=\"top\">b</th>\n",
        "      <th>one</th>\n",
        "      <td>-1.141719</td>\n",
        "      <td>-1.438620</td>\n",
        "    </tr>\n",
        "    <tr>\n",
        "      <th>two</th>\n",
        "      <td> 0.716140</td>\n",
        "      <td>-0.234490</td>\n",
        "    </tr>\n",
        "  </tbody>\n",
        "</table>\n",
        "</div>"
       ],
       "metadata": {},
       "output_type": "pyout",
       "prompt_number": 10,
       "text": [
        "              data1     data2\n",
        "key1 key2                    \n",
        "a    one  -1.003130  0.614936\n",
        "     two   0.748515 -0.761455\n",
        "b    one  -1.141719 -1.438620\n",
        "     two   0.716140 -0.234490"
       ]
      }
     ],
     "prompt_number": 10
    },
    {
     "cell_type": "code",
     "collapsed": false,
     "input": [
      "# iterating over groups -> the GroupBy object\n",
      "for name, group in df.groupby('key1'):\n",
      "    print name\n",
      "    print group"
     ],
     "language": "python",
     "metadata": {},
     "outputs": [
      {
       "output_type": "stream",
       "stream": "stdout",
       "text": [
        "a\n",
        "      data1     data2 key1 key2\n",
        "0 -1.025924  1.403950    a  one\n",
        "1  0.748515 -0.761455    a  two\n",
        "4 -0.980337 -0.174077    a  one\n",
        "b\n",
        "      data1    data2 key1 key2\n",
        "2 -1.141719 -1.43862    b  one\n",
        "3  0.716140 -0.23449    b  two\n"
       ]
      }
     ],
     "prompt_number": 11
    },
    {
     "cell_type": "code",
     "collapsed": false,
     "input": [
      "# in case of multiple keys, the first element in the tuple will be tuple\n",
      "# of key values\n",
      "for (k1, k2), group in df.groupby(['key1', 'key2']):\n",
      "    print k1, k2\n",
      "    print group"
     ],
     "language": "python",
     "metadata": {},
     "outputs": [
      {
       "output_type": "stream",
       "stream": "stdout",
       "text": [
        "a one\n",
        "      data1     data2 key1 key2\n",
        "0 -1.025924  1.403950    a  one\n",
        "4 -0.980337 -0.174077    a  one\n",
        "a two\n",
        "      data1     data2 key1 key2\n",
        "1  0.748515 -0.761455    a  two\n",
        "b one\n",
        "      data1    data2 key1 key2\n",
        "2 -1.141719 -1.43862    b  one\n",
        "b two\n",
        "     data1    data2 key1 key2\n",
        "3  0.71614 -0.23449    b  two\n"
       ]
      }
     ],
     "prompt_number": 12
    },
    {
     "cell_type": "code",
     "collapsed": false,
     "input": [
      "# one can transform DataFrame into dict\n",
      "pieces = dict(list(df.groupby('key1')))\n",
      "pieces['a']"
     ],
     "language": "python",
     "metadata": {},
     "outputs": [
      {
       "html": [
        "<div style=\"max-height:1000px;max-width:1500px;overflow:auto;\">\n",
        "<table border=\"1\" class=\"dataframe\">\n",
        "  <thead>\n",
        "    <tr style=\"text-align: right;\">\n",
        "      <th></th>\n",
        "      <th>data1</th>\n",
        "      <th>data2</th>\n",
        "      <th>key1</th>\n",
        "      <th>key2</th>\n",
        "    </tr>\n",
        "  </thead>\n",
        "  <tbody>\n",
        "    <tr>\n",
        "      <th>0</th>\n",
        "      <td>-1.025924</td>\n",
        "      <td> 1.403950</td>\n",
        "      <td> a</td>\n",
        "      <td> one</td>\n",
        "    </tr>\n",
        "    <tr>\n",
        "      <th>1</th>\n",
        "      <td> 0.748515</td>\n",
        "      <td>-0.761455</td>\n",
        "      <td> a</td>\n",
        "      <td> two</td>\n",
        "    </tr>\n",
        "    <tr>\n",
        "      <th>4</th>\n",
        "      <td>-0.980337</td>\n",
        "      <td>-0.174077</td>\n",
        "      <td> a</td>\n",
        "      <td> one</td>\n",
        "    </tr>\n",
        "  </tbody>\n",
        "</table>\n",
        "</div>"
       ],
       "metadata": {},
       "output_type": "pyout",
       "prompt_number": 13,
       "text": [
        "      data1     data2 key1 key2\n",
        "0 -1.025924  1.403950    a  one\n",
        "1  0.748515 -0.761455    a  two\n",
        "4 -0.980337 -0.174077    a  one"
       ]
      }
     ],
     "prompt_number": 13
    },
    {
     "cell_type": "code",
     "collapsed": false,
     "input": [
      "# one can group also on axis=1 (columns)\n",
      "grouped = df.groupby(df.dtypes, axis=1)\n",
      "dict(list(grouped))"
     ],
     "language": "python",
     "metadata": {},
     "outputs": [
      {
       "metadata": {},
       "output_type": "pyout",
       "prompt_number": 14,
       "text": [
        "{dtype('float64'):       data1     data2\n",
        "0 -1.025924  1.403950\n",
        "1  0.748515 -0.761455\n",
        "2 -1.141719 -1.438620\n",
        "3  0.716140 -0.234490\n",
        "4 -0.980337 -0.174077,\n",
        " dtype('O'):   key1 key2\n",
        "0    a  one\n",
        "1    a  two\n",
        "2    b  one\n",
        "3    b  two\n",
        "4    a  one}"
       ]
      }
     ],
     "prompt_number": 14
    },
    {
     "cell_type": "code",
     "collapsed": false,
     "input": [
      "# selecting a column or subset of columns\n",
      "df.groupby('key1')['data1']  # == df['data1'].groupby('key1')\n",
      "df.groupby('key1')[['data2']]  # == df[['data2']].groupby('key1') => it return values as DataFrame instance"
     ],
     "language": "python",
     "metadata": {},
     "outputs": [
      {
       "metadata": {},
       "output_type": "pyout",
       "prompt_number": 15,
       "text": [
        "<pandas.core.groupby.DataFrameGroupBy object at 0x30d5050>"
       ]
      }
     ],
     "prompt_number": 15
    },
    {
     "cell_type": "code",
     "collapsed": false,
     "input": [
      "# grouping with Dict and Series\n",
      "people = DataFrame(np.random.randn(5, 5), \n",
      "                   columns=['a', 'b', 'c', 'd', 'e'],\n",
      "                   index=['Joe', 'Steve', 'Wes', 'Jim', 'Travis'])\n",
      "people.ix[2:3, ['b', 'c']] = np.nan\n",
      "people"
     ],
     "language": "python",
     "metadata": {},
     "outputs": [
      {
       "html": [
        "<div style=\"max-height:1000px;max-width:1500px;overflow:auto;\">\n",
        "<table border=\"1\" class=\"dataframe\">\n",
        "  <thead>\n",
        "    <tr style=\"text-align: right;\">\n",
        "      <th></th>\n",
        "      <th>a</th>\n",
        "      <th>b</th>\n",
        "      <th>c</th>\n",
        "      <th>d</th>\n",
        "      <th>e</th>\n",
        "    </tr>\n",
        "  </thead>\n",
        "  <tbody>\n",
        "    <tr>\n",
        "      <th>Joe</th>\n",
        "      <td> 0.809993</td>\n",
        "      <td> 0.762065</td>\n",
        "      <td>-1.554796</td>\n",
        "      <td> 0.002032</td>\n",
        "      <td> 0.786982</td>\n",
        "    </tr>\n",
        "    <tr>\n",
        "      <th>Steve</th>\n",
        "      <td> 0.603441</td>\n",
        "      <td> 0.363779</td>\n",
        "      <td> 0.391096</td>\n",
        "      <td> 0.080714</td>\n",
        "      <td> 1.082870</td>\n",
        "    </tr>\n",
        "    <tr>\n",
        "      <th>Wes</th>\n",
        "      <td>-0.855745</td>\n",
        "      <td>      NaN</td>\n",
        "      <td>      NaN</td>\n",
        "      <td> 0.334858</td>\n",
        "      <td>-0.809335</td>\n",
        "    </tr>\n",
        "    <tr>\n",
        "      <th>Jim</th>\n",
        "      <td> 0.067516</td>\n",
        "      <td> 1.469890</td>\n",
        "      <td> 0.205182</td>\n",
        "      <td>-0.521794</td>\n",
        "      <td>-0.458402</td>\n",
        "    </tr>\n",
        "    <tr>\n",
        "      <th>Travis</th>\n",
        "      <td> 1.231196</td>\n",
        "      <td>-0.407485</td>\n",
        "      <td>-1.297521</td>\n",
        "      <td> 1.265420</td>\n",
        "      <td>-0.075888</td>\n",
        "    </tr>\n",
        "  </tbody>\n",
        "</table>\n",
        "</div>"
       ],
       "metadata": {},
       "output_type": "pyout",
       "prompt_number": 16,
       "text": [
        "               a         b         c         d         e\n",
        "Joe     0.809993  0.762065 -1.554796  0.002032  0.786982\n",
        "Steve   0.603441  0.363779  0.391096  0.080714  1.082870\n",
        "Wes    -0.855745       NaN       NaN  0.334858 -0.809335\n",
        "Jim     0.067516  1.469890  0.205182 -0.521794 -0.458402\n",
        "Travis  1.231196 -0.407485 -1.297521  1.265420 -0.075888"
       ]
      }
     ],
     "prompt_number": 16
    },
    {
     "cell_type": "code",
     "collapsed": false,
     "input": [
      "mapping = {'a': 'red', 'b': 'red', 'c': 'blue', 'd': 'blue', 'e': 'red', 'f': 'orange'}\n",
      "by_column = people.groupby(mapping, axis=1)\n",
      "by_column.mean()\n",
      "# the same works with Series\n",
      "map_series = Series(mapping)\n",
      "people.groupby(map_series, axis=1).count()"
     ],
     "language": "python",
     "metadata": {},
     "outputs": [
      {
       "html": [
        "<div style=\"max-height:1000px;max-width:1500px;overflow:auto;\">\n",
        "<table border=\"1\" class=\"dataframe\">\n",
        "  <thead>\n",
        "    <tr style=\"text-align: right;\">\n",
        "      <th></th>\n",
        "      <th>blue</th>\n",
        "      <th>red</th>\n",
        "    </tr>\n",
        "  </thead>\n",
        "  <tbody>\n",
        "    <tr>\n",
        "      <th>Joe</th>\n",
        "      <td> 2</td>\n",
        "      <td> 3</td>\n",
        "    </tr>\n",
        "    <tr>\n",
        "      <th>Steve</th>\n",
        "      <td> 2</td>\n",
        "      <td> 3</td>\n",
        "    </tr>\n",
        "    <tr>\n",
        "      <th>Wes</th>\n",
        "      <td> 1</td>\n",
        "      <td> 2</td>\n",
        "    </tr>\n",
        "    <tr>\n",
        "      <th>Jim</th>\n",
        "      <td> 2</td>\n",
        "      <td> 3</td>\n",
        "    </tr>\n",
        "    <tr>\n",
        "      <th>Travis</th>\n",
        "      <td> 2</td>\n",
        "      <td> 3</td>\n",
        "    </tr>\n",
        "  </tbody>\n",
        "</table>\n",
        "</div>"
       ],
       "metadata": {},
       "output_type": "pyout",
       "prompt_number": 17,
       "text": [
        "        blue  red\n",
        "Joe        2    3\n",
        "Steve      2    3\n",
        "Wes        1    2\n",
        "Jim        2    3\n",
        "Travis     2    3"
       ]
      }
     ],
     "prompt_number": 17
    },
    {
     "cell_type": "code",
     "collapsed": false,
     "input": [
      "# grouping with function! Any function passed as a group key \n",
      "# will be called once per index value, with the return values\n",
      "# being used as the group names\n",
      "people.groupby(len).sum()"
     ],
     "language": "python",
     "metadata": {},
     "outputs": [
      {
       "html": [
        "<div style=\"max-height:1000px;max-width:1500px;overflow:auto;\">\n",
        "<table border=\"1\" class=\"dataframe\">\n",
        "  <thead>\n",
        "    <tr style=\"text-align: right;\">\n",
        "      <th></th>\n",
        "      <th>a</th>\n",
        "      <th>b</th>\n",
        "      <th>c</th>\n",
        "      <th>d</th>\n",
        "      <th>e</th>\n",
        "    </tr>\n",
        "  </thead>\n",
        "  <tbody>\n",
        "    <tr>\n",
        "      <th>3</th>\n",
        "      <td> 0.021764</td>\n",
        "      <td> 2.231954</td>\n",
        "      <td>-1.349614</td>\n",
        "      <td>-0.184905</td>\n",
        "      <td>-0.480754</td>\n",
        "    </tr>\n",
        "    <tr>\n",
        "      <th>5</th>\n",
        "      <td> 0.603441</td>\n",
        "      <td> 0.363779</td>\n",
        "      <td> 0.391096</td>\n",
        "      <td> 0.080714</td>\n",
        "      <td> 1.082870</td>\n",
        "    </tr>\n",
        "    <tr>\n",
        "      <th>6</th>\n",
        "      <td> 1.231196</td>\n",
        "      <td>-0.407485</td>\n",
        "      <td>-1.297521</td>\n",
        "      <td> 1.265420</td>\n",
        "      <td>-0.075888</td>\n",
        "    </tr>\n",
        "  </tbody>\n",
        "</table>\n",
        "</div>"
       ],
       "metadata": {},
       "output_type": "pyout",
       "prompt_number": 18,
       "text": [
        "          a         b         c         d         e\n",
        "3  0.021764  2.231954 -1.349614 -0.184905 -0.480754\n",
        "5  0.603441  0.363779  0.391096  0.080714  1.082870\n",
        "6  1.231196 -0.407485 -1.297521  1.265420 -0.075888"
       ]
      }
     ],
     "prompt_number": 18
    },
    {
     "cell_type": "code",
     "collapsed": false,
     "input": [
      "# mixing everything (arrays, dicts, series) is not a problem\n",
      "# as everything gets converted to arrays internally\n",
      "key_list = ['one', 'one', 'one', 'two', 'two']\n",
      "people.groupby([len, key_list]).min()"
     ],
     "language": "python",
     "metadata": {},
     "outputs": [
      {
       "html": [
        "<div style=\"max-height:1000px;max-width:1500px;overflow:auto;\">\n",
        "<table border=\"1\" class=\"dataframe\">\n",
        "  <thead>\n",
        "    <tr style=\"text-align: right;\">\n",
        "      <th></th>\n",
        "      <th></th>\n",
        "      <th>a</th>\n",
        "      <th>b</th>\n",
        "      <th>c</th>\n",
        "      <th>d</th>\n",
        "      <th>e</th>\n",
        "    </tr>\n",
        "  </thead>\n",
        "  <tbody>\n",
        "    <tr>\n",
        "      <th rowspan=\"2\" valign=\"top\">3</th>\n",
        "      <th>one</th>\n",
        "      <td>-0.855745</td>\n",
        "      <td> 0.762065</td>\n",
        "      <td>-1.554796</td>\n",
        "      <td> 0.002032</td>\n",
        "      <td>-0.809335</td>\n",
        "    </tr>\n",
        "    <tr>\n",
        "      <th>two</th>\n",
        "      <td> 0.067516</td>\n",
        "      <td> 1.469890</td>\n",
        "      <td> 0.205182</td>\n",
        "      <td>-0.521794</td>\n",
        "      <td>-0.458402</td>\n",
        "    </tr>\n",
        "    <tr>\n",
        "      <th>5</th>\n",
        "      <th>one</th>\n",
        "      <td> 0.603441</td>\n",
        "      <td> 0.363779</td>\n",
        "      <td> 0.391096</td>\n",
        "      <td> 0.080714</td>\n",
        "      <td> 1.082870</td>\n",
        "    </tr>\n",
        "    <tr>\n",
        "      <th>6</th>\n",
        "      <th>two</th>\n",
        "      <td> 1.231196</td>\n",
        "      <td>-0.407485</td>\n",
        "      <td>-1.297521</td>\n",
        "      <td> 1.265420</td>\n",
        "      <td>-0.075888</td>\n",
        "    </tr>\n",
        "  </tbody>\n",
        "</table>\n",
        "</div>"
       ],
       "metadata": {},
       "output_type": "pyout",
       "prompt_number": 19,
       "text": [
        "              a         b         c         d         e\n",
        "3 one -0.855745  0.762065 -1.554796  0.002032 -0.809335\n",
        "  two  0.067516  1.469890  0.205182 -0.521794 -0.458402\n",
        "5 one  0.603441  0.363779  0.391096  0.080714  1.082870\n",
        "6 two  1.231196 -0.407485 -1.297521  1.265420 -0.075888"
       ]
      }
     ],
     "prompt_number": 19
    },
    {
     "cell_type": "code",
     "collapsed": false,
     "input": [
      "# grouping by index levels (in case of MultiIndex)\n",
      "columns = pd.MultiIndex.from_arrays([['US', 'US', 'US', 'JP', 'JP'],\n",
      "                                     [1, 3, 5, 1, 3]], names=['cty', 'tenor'])\n",
      "hier_df = DataFrame(np.random.randn(4, 5), columns=columns)\n",
      "hier_df"
     ],
     "language": "python",
     "metadata": {},
     "outputs": [
      {
       "html": [
        "<div style=\"max-height:1000px;max-width:1500px;overflow:auto;\">\n",
        "<table border=\"1\" class=\"dataframe\">\n",
        "  <thead>\n",
        "    <tr>\n",
        "      <th>cty</th>\n",
        "      <th colspan=\"3\" halign=\"left\">US</th>\n",
        "      <th colspan=\"2\" halign=\"left\">JP</th>\n",
        "    </tr>\n",
        "    <tr>\n",
        "      <th>tenor</th>\n",
        "      <th>1</th>\n",
        "      <th>3</th>\n",
        "      <th>5</th>\n",
        "      <th>1</th>\n",
        "      <th>3</th>\n",
        "    </tr>\n",
        "  </thead>\n",
        "  <tbody>\n",
        "    <tr>\n",
        "      <th>0</th>\n",
        "      <td>-0.526866</td>\n",
        "      <td>-0.942145</td>\n",
        "      <td> 0.492312</td>\n",
        "      <td> 0.374826</td>\n",
        "      <td> 1.405081</td>\n",
        "    </tr>\n",
        "    <tr>\n",
        "      <th>1</th>\n",
        "      <td>-0.128794</td>\n",
        "      <td>-0.546994</td>\n",
        "      <td>-0.792551</td>\n",
        "      <td>-0.145216</td>\n",
        "      <td>-0.858936</td>\n",
        "    </tr>\n",
        "    <tr>\n",
        "      <th>2</th>\n",
        "      <td>-0.045826</td>\n",
        "      <td>-0.844301</td>\n",
        "      <td> 0.255853</td>\n",
        "      <td> 0.478929</td>\n",
        "      <td>-1.190013</td>\n",
        "    </tr>\n",
        "    <tr>\n",
        "      <th>3</th>\n",
        "      <td> 0.418668</td>\n",
        "      <td> 0.134828</td>\n",
        "      <td> 0.667084</td>\n",
        "      <td>-1.319400</td>\n",
        "      <td>-0.159801</td>\n",
        "    </tr>\n",
        "  </tbody>\n",
        "</table>\n",
        "</div>"
       ],
       "metadata": {},
       "output_type": "pyout",
       "prompt_number": 21,
       "text": [
        "cty          US                            JP          \n",
        "tenor         1         3         5         1         3\n",
        "0     -0.526866 -0.942145  0.492312  0.374826  1.405081\n",
        "1     -0.128794 -0.546994 -0.792551 -0.145216 -0.858936\n",
        "2     -0.045826 -0.844301  0.255853  0.478929 -1.190013\n",
        "3      0.418668  0.134828  0.667084 -1.319400 -0.159801"
       ]
      }
     ],
     "prompt_number": 21
    },
    {
     "cell_type": "code",
     "collapsed": false,
     "input": [
      "hier_df.groupby(level='cty', axis=1).count()"
     ],
     "language": "python",
     "metadata": {},
     "outputs": [
      {
       "html": [
        "<div style=\"max-height:1000px;max-width:1500px;overflow:auto;\">\n",
        "<table border=\"1\" class=\"dataframe\">\n",
        "  <thead>\n",
        "    <tr style=\"text-align: right;\">\n",
        "      <th>cty</th>\n",
        "      <th>JP</th>\n",
        "      <th>US</th>\n",
        "    </tr>\n",
        "  </thead>\n",
        "  <tbody>\n",
        "    <tr>\n",
        "      <th>0</th>\n",
        "      <td> 2</td>\n",
        "      <td> 3</td>\n",
        "    </tr>\n",
        "    <tr>\n",
        "      <th>1</th>\n",
        "      <td> 2</td>\n",
        "      <td> 3</td>\n",
        "    </tr>\n",
        "    <tr>\n",
        "      <th>2</th>\n",
        "      <td> 2</td>\n",
        "      <td> 3</td>\n",
        "    </tr>\n",
        "    <tr>\n",
        "      <th>3</th>\n",
        "      <td> 2</td>\n",
        "      <td> 3</td>\n",
        "    </tr>\n",
        "  </tbody>\n",
        "</table>\n",
        "</div>"
       ],
       "metadata": {},
       "output_type": "pyout",
       "prompt_number": 23,
       "text": [
        "cty  JP  US\n",
        "0     2   3\n",
        "1     2   3\n",
        "2     2   3\n",
        "3     2   3"
       ]
      }
     ],
     "prompt_number": 23
    }
   ],
   "metadata": {}
  }
 ]
}