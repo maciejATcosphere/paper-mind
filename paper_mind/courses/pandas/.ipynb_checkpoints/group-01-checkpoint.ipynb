{
 "metadata": {
  "name": ""
 },
 "nbformat": 3,
 "nbformat_minor": 0,
 "worksheets": [
  {
   "cells": [
    {
     "cell_type": "code",
     "collapsed": false,
     "input": [
      "from pandas import DataFrame\n",
      "import numpy as np"
     ],
     "language": "python",
     "metadata": {},
     "outputs": [],
     "prompt_number": 2
    },
    {
     "cell_type": "code",
     "collapsed": false,
     "input": [
      "df = DataFrame({'key1': ['a', 'a', 'b', 'b', 'a'],\n",
      "                'key2': ['one', 'two', 'one', 'two', 'one'],\n",
      "                'data1': np.random.randn(5),\n",
      "                'data2': np.random.randn(5)})\n",
      "df"
     ],
     "language": "python",
     "metadata": {},
     "outputs": [
      {
       "html": [
        "<div style=\"max-height:1000px;max-width:1500px;overflow:auto;\">\n",
        "<table border=\"1\" class=\"dataframe\">\n",
        "  <thead>\n",
        "    <tr style=\"text-align: right;\">\n",
        "      <th></th>\n",
        "      <th>data1</th>\n",
        "      <th>data2</th>\n",
        "      <th>key1</th>\n",
        "      <th>key2</th>\n",
        "    </tr>\n",
        "  </thead>\n",
        "  <tbody>\n",
        "    <tr>\n",
        "      <th>0</th>\n",
        "      <td>-0.580762</td>\n",
        "      <td>-1.142099</td>\n",
        "      <td> a</td>\n",
        "      <td> one</td>\n",
        "    </tr>\n",
        "    <tr>\n",
        "      <th>1</th>\n",
        "      <td>-0.226044</td>\n",
        "      <td>-1.511602</td>\n",
        "      <td> a</td>\n",
        "      <td> two</td>\n",
        "    </tr>\n",
        "    <tr>\n",
        "      <th>2</th>\n",
        "      <td> 0.102497</td>\n",
        "      <td> 0.338241</td>\n",
        "      <td> b</td>\n",
        "      <td> one</td>\n",
        "    </tr>\n",
        "    <tr>\n",
        "      <th>3</th>\n",
        "      <td> 0.320037</td>\n",
        "      <td> 1.416296</td>\n",
        "      <td> b</td>\n",
        "      <td> two</td>\n",
        "    </tr>\n",
        "    <tr>\n",
        "      <th>4</th>\n",
        "      <td>-2.191149</td>\n",
        "      <td>-1.364862</td>\n",
        "      <td> a</td>\n",
        "      <td> one</td>\n",
        "    </tr>\n",
        "  </tbody>\n",
        "</table>\n",
        "</div>"
       ],
       "metadata": {},
       "output_type": "pyout",
       "prompt_number": 4,
       "text": [
        "      data1     data2 key1 key2\n",
        "0 -0.580762 -1.142099    a  one\n",
        "1 -0.226044 -1.511602    a  two\n",
        "2  0.102497  0.338241    b  one\n",
        "3  0.320037  1.416296    b  two\n",
        "4 -2.191149 -1.364862    a  one"
       ]
      }
     ],
     "prompt_number": 4
    },
    {
     "cell_type": "code",
     "collapsed": false,
     "input": [
      "# creating GroupBy object\n",
      "grouped = df['data1'].groupby(df['key1'])\n",
      "grouped"
     ],
     "language": "python",
     "metadata": {},
     "outputs": [
      {
       "metadata": {},
       "output_type": "pyout",
       "prompt_number": 6,
       "text": [
        "<pandas.core.groupby.SeriesGroupBy object at 0x4b34cd0>"
       ]
      }
     ],
     "prompt_number": 6
    },
    {
     "cell_type": "code",
     "collapsed": false,
     "input": [
      "grouped.mean()"
     ],
     "language": "python",
     "metadata": {},
     "outputs": [
      {
       "metadata": {},
       "output_type": "pyout",
       "prompt_number": 8,
       "text": [
        "key1\n",
        "a      -0.999318\n",
        "b       0.211267\n",
        "dtype: float64"
       ]
      }
     ],
     "prompt_number": 8
    },
    {
     "cell_type": "code",
     "collapsed": false,
     "input": [
      "# passing multiple keys\n",
      "means = df['data1'].groupby([df['key1'], df['key2']]).mean()\n",
      "# ending up with hierachical index\n",
      "means"
     ],
     "language": "python",
     "metadata": {},
     "outputs": [
      {
       "metadata": {},
       "output_type": "pyout",
       "prompt_number": 10,
       "text": [
        "key1  key2\n",
        "a     one    -1.385955\n",
        "      two    -0.226044\n",
        "b     one     0.102497\n",
        "      two     0.320037\n",
        "dtype: float64"
       ]
      }
     ],
     "prompt_number": 10
    },
    {
     "cell_type": "code",
     "collapsed": false,
     "input": [
      "means.unstack()"
     ],
     "language": "python",
     "metadata": {},
     "outputs": [
      {
       "html": [
        "<div style=\"max-height:1000px;max-width:1500px;overflow:auto;\">\n",
        "<table border=\"1\" class=\"dataframe\">\n",
        "  <thead>\n",
        "    <tr style=\"text-align: right;\">\n",
        "      <th>key2</th>\n",
        "      <th>one</th>\n",
        "      <th>two</th>\n",
        "    </tr>\n",
        "    <tr>\n",
        "      <th>key1</th>\n",
        "      <th></th>\n",
        "      <th></th>\n",
        "    </tr>\n",
        "  </thead>\n",
        "  <tbody>\n",
        "    <tr>\n",
        "      <th>a</th>\n",
        "      <td>-1.385955</td>\n",
        "      <td>-0.226044</td>\n",
        "    </tr>\n",
        "    <tr>\n",
        "      <th>b</th>\n",
        "      <td> 0.102497</td>\n",
        "      <td> 0.320037</td>\n",
        "    </tr>\n",
        "  </tbody>\n",
        "</table>\n",
        "</div>"
       ],
       "metadata": {},
       "output_type": "pyout",
       "prompt_number": 12,
       "text": [
        "key2       one       two\n",
        "key1                    \n",
        "a    -1.385955 -0.226044\n",
        "b     0.102497  0.320037"
       ]
      }
     ],
     "prompt_number": 12
    },
    {
     "cell_type": "code",
     "collapsed": false,
     "input": [
      "# one can use external arrays to be used as group keys\n",
      "states = np.array(['Ohio', 'California', 'California', 'Ohio', 'Ohio'])\n",
      "years = np.array([2005, 2005, 2006, 2005, 2006])\n",
      "df['data1'].groupby([states, years]).mean()"
     ],
     "language": "python",
     "metadata": {},
     "outputs": [
      {
       "metadata": {},
       "output_type": "pyout",
       "prompt_number": 14,
       "text": [
        "California  2005   -0.226044\n",
        "            2006    0.102497\n",
        "Ohio        2005   -0.130363\n",
        "            2006   -2.191149\n",
        "dtype: float64"
       ]
      }
     ],
     "prompt_number": 14
    },
    {
     "cell_type": "code",
     "collapsed": false,
     "input": [
      "# if the grouping information can be found in the same DataFrame\n",
      "# one can use shortcut notation\n",
      "df.groupby('key1').mean()\n",
      "# key2 is omitted since it's not numeric data. It's called nuisance column, which\n",
      "# is therefore excluded from the result. By default all numeric columns are \n",
      "# aggregated."
     ],
     "language": "python",
     "metadata": {},
     "outputs": [
      {
       "html": [
        "<div style=\"max-height:1000px;max-width:1500px;overflow:auto;\">\n",
        "<table border=\"1\" class=\"dataframe\">\n",
        "  <thead>\n",
        "    <tr style=\"text-align: right;\">\n",
        "      <th></th>\n",
        "      <th>data1</th>\n",
        "      <th>data2</th>\n",
        "    </tr>\n",
        "    <tr>\n",
        "      <th>key1</th>\n",
        "      <th></th>\n",
        "      <th></th>\n",
        "    </tr>\n",
        "  </thead>\n",
        "  <tbody>\n",
        "    <tr>\n",
        "      <th>a</th>\n",
        "      <td>-0.999318</td>\n",
        "      <td>-1.339521</td>\n",
        "    </tr>\n",
        "    <tr>\n",
        "      <th>b</th>\n",
        "      <td> 0.211267</td>\n",
        "      <td> 0.877268</td>\n",
        "    </tr>\n",
        "  </tbody>\n",
        "</table>\n",
        "</div>"
       ],
       "metadata": {},
       "output_type": "pyout",
       "prompt_number": 16,
       "text": [
        "         data1     data2\n",
        "key1                    \n",
        "a    -0.999318 -1.339521\n",
        "b     0.211267  0.877268"
       ]
      }
     ],
     "prompt_number": 16
    },
    {
     "cell_type": "code",
     "collapsed": false,
     "input": [
      "# one can pass multiple keys\n",
      "df.groupby(['key1', 'key2']).mean()"
     ],
     "language": "python",
     "metadata": {},
     "outputs": [
      {
       "html": [
        "<div style=\"max-height:1000px;max-width:1500px;overflow:auto;\">\n",
        "<table border=\"1\" class=\"dataframe\">\n",
        "  <thead>\n",
        "    <tr style=\"text-align: right;\">\n",
        "      <th></th>\n",
        "      <th></th>\n",
        "      <th>data1</th>\n",
        "      <th>data2</th>\n",
        "    </tr>\n",
        "    <tr>\n",
        "      <th>key1</th>\n",
        "      <th>key2</th>\n",
        "      <th></th>\n",
        "      <th></th>\n",
        "    </tr>\n",
        "  </thead>\n",
        "  <tbody>\n",
        "    <tr>\n",
        "      <th rowspan=\"2\" valign=\"top\">a</th>\n",
        "      <th>one</th>\n",
        "      <td>-1.385955</td>\n",
        "      <td>-1.253480</td>\n",
        "    </tr>\n",
        "    <tr>\n",
        "      <th>two</th>\n",
        "      <td>-0.226044</td>\n",
        "      <td>-1.511602</td>\n",
        "    </tr>\n",
        "    <tr>\n",
        "      <th rowspan=\"2\" valign=\"top\">b</th>\n",
        "      <th>one</th>\n",
        "      <td> 0.102497</td>\n",
        "      <td> 0.338241</td>\n",
        "    </tr>\n",
        "    <tr>\n",
        "      <th>two</th>\n",
        "      <td> 0.320037</td>\n",
        "      <td> 1.416296</td>\n",
        "    </tr>\n",
        "  </tbody>\n",
        "</table>\n",
        "</div>"
       ],
       "metadata": {},
       "output_type": "pyout",
       "prompt_number": 18,
       "text": [
        "              data1     data2\n",
        "key1 key2                    \n",
        "a    one  -1.385955 -1.253480\n",
        "     two  -0.226044 -1.511602\n",
        "b    one   0.102497  0.338241\n",
        "     two   0.320037  1.416296"
       ]
      }
     ],
     "prompt_number": 18
    },
    {
     "cell_type": "code",
     "collapsed": false,
     "input": [],
     "language": "python",
     "metadata": {},
     "outputs": []
    }
   ],
   "metadata": {}
  }
 ]
}