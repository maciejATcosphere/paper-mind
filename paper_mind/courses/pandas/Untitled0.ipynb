{
 "metadata": {
  "name": ""
 },
 "nbformat": 3,
 "nbformat_minor": 0,
 "worksheets": [
  {
   "cells": [
    {
     "cell_type": "markdown",
     "metadata": {},
     "source": [
      "# Sentiment\n",
      "\n",
      "- the lowest value of sentiment at: 2013-11-27 (-1562)\n",
      "- highly correlated at that time with like"
     ]
    },
    {
     "cell_type": "markdown",
     "metadata": {},
     "source": [
      "# SOV\n",
      "\n",
      "- one can clearly see the relationship between release dates and SOV\n",
      "- additionaly at the release dates SOV increases not only in the absolute terms but also as compared to the competitors\n",
      "- for sure daily_new_likes have nothing to do with SOV!\n"
     ]
    },
    {
     "cell_type": "code",
     "collapsed": false,
     "input": [],
     "language": "python",
     "metadata": {},
     "outputs": []
    }
   ],
   "metadata": {}
  }
 ]
}